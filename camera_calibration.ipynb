{
 "cells": [
  {
   "cell_type": "markdown",
   "metadata": {},
   "source": [
    "# Compute the camera calibration matrix and distortion coefficients\n",
    "\n",
    "All cameras use lenses and one of the problems with lenses is that they have some radial distortion. Removing Distortion can be achieved by finding the indside corners within an image and using that information to un-distort the image."
   ]
  },
  {
   "cell_type": "code",
   "execution_count": 3,
   "metadata": {},
   "outputs": [],
   "source": [
    "import numpy as np\n",
    "import glob\n",
    "import matplotlib.pyplot as plt\n",
    "import cv2\n",
    "import matplotlib.image as mpimg\n",
    "import matplotlib.gridspec as gridspec"
   ]
  },
  {
   "cell_type": "code",
   "execution_count": 2,
   "metadata": {
    "vscode": {
     "languageId": "plaintext"
    }
   },
   "outputs": [],
   "source": [
    "# number of inside corners in x&y direcctions\n",
    "nx = 9\n",
    "ny = 6\n",
    "\n",
    "# prepare object points\n",
    "objp = np.zeros((6*9, 3), np.float32)\n",
    "objp[:, :2] = np.mgrid[0:9, 0:6].T.reshape(-1, 2)\n",
    "\n",
    "# Arrays to store object points and image points from all the images\n",
    "objpoints = []\n",
    "imgpoints = []\n"
   ]
  },
  {
   "cell_type": "code",
   "execution_count": 5,
   "metadata": {
    "vscode": {
     "languageId": "plaintext"
    }
   },
   "outputs": [
    {
     "data": {
      "text/plain": [
       "<Figure size 1800x1200 with 0 Axes>"
      ]
     },
     "metadata": {},
     "output_type": "display_data"
    }
   ],
   "source": [
    "# Make a list of calibration images\n",
    "images = glob.glob(\"./camera_cal/calibration*.jpg\")\n",
    "\n",
    "plt.figure(figsize = (18,12))\n",
    "grid = gridspec.GridSpec(5,4)\n",
    "# set the spacing between axes.\n",
    "grid.update(wspace=0.05, hspace=0.15)"
   ]
  },
  {
   "cell_type": "code",
   "execution_count": 6,
   "metadata": {},
   "outputs": [],
   "source": [
    "for idx, fname in enumerate(images):\n",
    "    img = cv2.imread(fname)\n",
    "    \n",
    "    # Convert to grayscale\n",
    "    gray = cv2.cvtColor(img, cv2.COLOR_BGR2GRAY)\n",
    "    \n",
    "    \n",
    "    # Fint the chessboard corners\n",
    "    ret, corners = cv2.findChessboardCorners(gray, (nx, ny), None)\n",
    "    \n",
    "    # If found, add to object points, image points\n",
    "    if ret:\n",
    "        objpoints.append(objp)\n",
    "        imgpoints.append(corners)\n",
    "        \n",
    "        # Draw and display the corners\n",
    "        img = cv2.drawChessboardCorners(img, (nx, ny), corners, ret)\n",
    "        write_name = 'corners_found'+str(idx)+'.jpg'\n",
    "        #cv2.imwrite(write_name,img)\n",
    "        img_plt = plt.subplot(grid[idx])\n",
    "        plt.axis('on')\n",
    "        img_plt.set_xticklabels([])\n",
    "        img_plt.set_yticklabels([])\n",
    "        #img_plt.set_aspect('equal')\n",
    "        plt.imshow(img)\n",
    "        plt.title(write_name)\n",
    "        plt.axis('off')\n",
    "        \n",
    "plt.show()"
   ]
  },
  {
   "cell_type": "code",
   "execution_count": 7,
   "metadata": {},
   "outputs": [
    {
     "ename": "AttributeError",
     "evalue": "'NoneType' object has no attribute 'shape'",
     "output_type": "error",
     "traceback": [
      "\u001b[1;31m---------------------------------------------------------------------------\u001b[0m",
      "\u001b[1;31mAttributeError\u001b[0m                            Traceback (most recent call last)",
      "Cell \u001b[1;32mIn [7], line 5\u001b[0m\n\u001b[0;32m      1\u001b[0m \u001b[38;5;66;03m# Take an image, object points, image points, and perform the camera calibration. Undistort the image after camera calibration\u001b[39;00m\n\u001b[0;32m      2\u001b[0m         \n\u001b[0;32m      3\u001b[0m \u001b[38;5;66;03m#load image for reference\u001b[39;00m\n\u001b[0;32m      4\u001b[0m image \u001b[38;5;241m=\u001b[39m cv2\u001b[38;5;241m.\u001b[39mimread(\u001b[38;5;124m'\u001b[39m\u001b[38;5;124m./camera_cal/calibration1.jpg\u001b[39m\u001b[38;5;124m'\u001b[39m)\n\u001b[1;32m----> 5\u001b[0m img_size \u001b[38;5;241m=\u001b[39m (\u001b[43mimage\u001b[49m\u001b[38;5;241;43m.\u001b[39;49m\u001b[43mshape\u001b[49m[\u001b[38;5;241m1\u001b[39m],image\u001b[38;5;241m.\u001b[39mshape[\u001b[38;5;241m0\u001b[39m])\n\u001b[0;32m      7\u001b[0m \u001b[38;5;66;03m# Perform camera calibration with the given object and image points\u001b[39;00m\n\u001b[0;32m      8\u001b[0m ret, mtx, dist, rvecs, tvecs \u001b[38;5;241m=\u001b[39m cv2\u001b[38;5;241m.\u001b[39mcalibrateCamera(objpoints, imgpoints, img_size, \u001b[38;5;28;01mNone\u001b[39;00m, \u001b[38;5;28;01mNone\u001b[39;00m)\n",
      "\u001b[1;31mAttributeError\u001b[0m: 'NoneType' object has no attribute 'shape'"
     ]
    }
   ],
   "source": [
    "# Take an image, object points, image points, and perform the camera calibration. Undistort the image after camera calibration\n",
    "        \n",
    "#load image for reference\n",
    "image = cv2.imread('./camera_cal/calibration1.jpg')\n",
    "img_size = (image.shape[1],image.shape[0])\n",
    "\n",
    "# Perform camera calibration with the given object and image points\n",
    "ret, mtx, dist, rvecs, tvecs = cv2.calibrateCamera(objpoints, imgpoints, img_size, None, None)\n",
    "\n",
    "# Save the camera calibration results for later use\n",
    "dist_pickle = {}\n",
    "dist_pickle[\"mtx\"] = mtx\n",
    "dist_pickle[\"dist\"] = dist\n",
    "pickle.dump(dist_pickle, open(\"calibration_pickle.p\", \"wb\"))\n",
    "\n",
    "#Visualize the before/after distortion on chessboard images\n",
    "undist = cv2.undistort(image, mtx, dist, None, mtx)\n",
    "plt.figure(figsize = (18,12))\n",
    "grid = gridspec.GridSpec(1,2)\n",
    "# set the spacing between axes.\n",
    "grid.update(wspace=0.1, hspace=0.1)  \n",
    "\n",
    "img_plt = plt.subplot(grid[0])\n",
    "plt.imshow(image)\n",
    "plt.title('Original Image')\n",
    "\n",
    "img_plt = plt.subplot(grid[1])\n",
    "plt.imshow(undist)\n",
    "plt.title('Undistorted Image')\n",
    "\n",
    "plt.show()"
   ]
  },
  {
   "cell_type": "code",
   "execution_count": 8,
   "metadata": {},
   "outputs": [
    {
     "ename": "error",
     "evalue": "OpenCV(4.6.0) D:\\a\\opencv-python\\opencv-python\\opencv\\modules\\imgproc\\src\\color.cpp:182: error: (-215:Assertion failed) !_src.empty() in function 'cv::cvtColor'\n",
     "output_type": "error",
     "traceback": [
      "\u001b[1;31m---------------------------------------------------------------------------\u001b[0m",
      "\u001b[1;31merror\u001b[0m                                     Traceback (most recent call last)",
      "Cell \u001b[1;32mIn [8], line 3\u001b[0m\n\u001b[0;32m      1\u001b[0m \u001b[38;5;66;03m# Choose from the test images to demonstrate the before/after applying undistortion \u001b[39;00m\n\u001b[0;32m      2\u001b[0m testImg \u001b[38;5;241m=\u001b[39m cv2\u001b[38;5;241m.\u001b[39mimread(\u001b[38;5;124m'\u001b[39m\u001b[38;5;124m./test_images/test5.jpg\u001b[39m\u001b[38;5;124m'\u001b[39m)\n\u001b[1;32m----> 3\u001b[0m testImg \u001b[38;5;241m=\u001b[39m \u001b[43mcv2\u001b[49m\u001b[38;5;241;43m.\u001b[39;49m\u001b[43mcvtColor\u001b[49m\u001b[43m(\u001b[49m\u001b[43mtestImg\u001b[49m\u001b[43m,\u001b[49m\u001b[43m \u001b[49m\u001b[43mcv2\u001b[49m\u001b[38;5;241;43m.\u001b[39;49m\u001b[43mCOLOR_BGR2RGB\u001b[49m\u001b[43m)\u001b[49m\n\u001b[0;32m      5\u001b[0m undistTest \u001b[38;5;241m=\u001b[39m cv2\u001b[38;5;241m.\u001b[39mundistort(testImg, mtx, dist, \u001b[38;5;28;01mNone\u001b[39;00m, mtx)\n\u001b[0;32m      7\u001b[0m \u001b[38;5;66;03m#Visualize the before/after distortion on test images\u001b[39;00m\n",
      "\u001b[1;31merror\u001b[0m: OpenCV(4.6.0) D:\\a\\opencv-python\\opencv-python\\opencv\\modules\\imgproc\\src\\color.cpp:182: error: (-215:Assertion failed) !_src.empty() in function 'cv::cvtColor'\n"
     ]
    }
   ],
   "source": [
    "# Choose from the test images to demonstrate the before/after applying undistortion \n",
    "testImg = cv2.imread('./test_images/test5.jpg')\n",
    "testImg = cv2.cvtColor(testImg, cv2.COLOR_BGR2RGB)\n",
    "\n",
    "undistTest = cv2.undistort(testImg, mtx, dist, None, mtx)\n",
    "\n",
    "#Visualize the before/after distortion on test images\n",
    "plt.figure(figsize = (18,12))\n",
    "grid = gridspec.GridSpec(1,2)\n",
    "# set the spacing between axes.\n",
    "grid.update(wspace=0.1, hspace=0.1)  \n",
    "\n",
    "img_plt = plt.subplot(grid[0])\n",
    "plt.imshow(testImg)\n",
    "plt.title('Original test Image')\n",
    "\n",
    "img_plt = plt.subplot(grid[1])\n",
    "plt.imshow(undistTest)\n",
    "plt.title('Undistorted test Image')\n",
    "\n",
    "\n",
    "plt.show()"
   ]
  },
  {
   "cell_type": "code",
   "execution_count": null,
   "metadata": {},
   "outputs": [],
   "source": []
  }
 ],
 "metadata": {
  "kernelspec": {
   "display_name": "Python 3 (ipykernel)",
   "language": "python",
   "name": "python3"
  },
  "language_info": {
   "codemirror_mode": {
    "name": "ipython",
    "version": 3
   },
   "file_extension": ".py",
   "mimetype": "text/x-python",
   "name": "python",
   "nbconvert_exporter": "python",
   "pygments_lexer": "ipython3",
   "version": "3.9.6"
  }
 },
 "nbformat": 4,
 "nbformat_minor": 2
}
